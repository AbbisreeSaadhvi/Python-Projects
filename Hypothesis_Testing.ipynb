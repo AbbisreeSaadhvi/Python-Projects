{
  "nbformat": 4,
  "nbformat_minor": 0,
  "metadata": {
    "colab": {
      "provenance": [],
      "authorship_tag": "ABX9TyM1kjBNqMS8mC4z+NxMWjIw",
      "include_colab_link": true
    },
    "kernelspec": {
      "name": "python3",
      "display_name": "Python 3"
    },
    "language_info": {
      "name": "python"
    }
  },
  "cells": [
    {
      "cell_type": "markdown",
      "metadata": {
        "id": "view-in-github",
        "colab_type": "text"
      },
      "source": [
        "<a href=\"https://colab.research.google.com/github/AbbisreeSaadhvi/Python-Projects/blob/main/Hypothesis_Testing.ipynb\" target=\"_parent\"><img src=\"https://colab.research.google.com/assets/colab-badge.svg\" alt=\"Open In Colab\"/></a>"
      ]
    },
    {
      "cell_type": "markdown",
      "source": [
        "#Hypothesis Testing Examples with Explanations"
      ],
      "metadata": {
        "id": "bZfN8qzWyyLR"
      }
    },
    {
      "cell_type": "markdown",
      "source": [
        "##1. Z-Score Test (One-Sample Z-Test)\n",
        "\n",
        "**Scenario:**\n",
        "A company claims that the average weight of their product is 500 grams. A sample of 30 products has an average weight of 490 grams with a standard deviation of 20 grams. We want to test if the average weight is significantly different from 500 grams at a 0.05 significance level.\n",
        "\n",
        "**Hypothesis:**\n",
        "\n",
        "Null Hypothesis (𝐻0): 𝜇=500\n",
        "\n",
        "Alternative Hypothesis (𝐻1): 𝜇≠500"
      ],
      "metadata": {
        "id": "KM2-yt7cy4k-"
      }
    },
    {
      "cell_type": "code",
      "source": [
        "import numpy as np\n",
        "from scipy.stats import norm\n",
        "\n",
        "# Given data\n",
        "sample_mean = 490\n",
        "population_mean = 500\n",
        "std_dev = 20\n",
        "n = 30\n",
        "\n",
        "# Z-score calculation\n",
        "z_score = (sample_mean - population_mean) / (std_dev / np.sqrt(n))\n",
        "p_value = 2 * (1 - norm.cdf(abs(z_score)))\n",
        "\n",
        "z_score, p_value"
      ],
      "metadata": {
        "colab": {
          "base_uri": "https://localhost:8080/"
        },
        "id": "IQEnmH6ZzOPG",
        "outputId": "7fb67713-b676-455d-e075-921f772092c6"
      },
      "execution_count": 1,
      "outputs": [
        {
          "output_type": "execute_result",
          "data": {
            "text/plain": [
              "(-2.7386127875258306, 0.0061698993205441255)"
            ]
          },
          "metadata": {},
          "execution_count": 1
        }
      ]
    },
    {
      "cell_type": "markdown",
      "source": [
        "**Interpretation:**\n",
        "The p-value (0.0062) is less than the significance level (0.05), so we reject the null hypothesis. There is significant evidence that the average weight of the product is different from 500 grams."
      ],
      "metadata": {
        "id": "8oI4my65zZUX"
      }
    },
    {
      "cell_type": "markdown",
      "source": [
        "##2. Chi-Square Test"
      ],
      "metadata": {
        "id": "hTx4RIrvzcNN"
      }
    },
    {
      "cell_type": "markdown",
      "source": [
        "**Scenario:**\n",
        "A survey is conducted to determine if there is a preference for three brands of a product (A, B, and C) among 300 consumers. The observed frequencies are: Brand A - 120, Brand B - 90, Brand C - 90. We want to test if the preferences are equally distributed at a 0.05 significance level.\n",
        "\n",
        "**Hypothesis:**\n",
        "\n",
        "Null Hypothesis (𝐻0): Preferences are equally distributed.\n",
        "\n",
        "Alternative Hypothesis (𝐻1): Preferences are not equally distributed."
      ],
      "metadata": {
        "id": "W8wFYbTxzg1P"
      }
    },
    {
      "cell_type": "code",
      "source": [
        "import numpy as np\n",
        "from scipy.stats import chi2_contingency\n",
        "\n",
        "# Observed data\n",
        "observed = np.array([120, 90, 90])\n",
        "\n",
        "# Expected data\n",
        "expected = np.array([100, 100, 100])\n",
        "\n",
        "# Chi-Square test\n",
        "chi2, p, dof, expected = chi2_contingency([observed, expected])\n",
        "chi2, p"
      ],
      "metadata": {
        "colab": {
          "base_uri": "https://localhost:8080/"
        },
        "id": "YBATKH2AzzjY",
        "outputId": "0f7cbef7-5cf6-45e0-cb07-acb495d4ab73"
      },
      "execution_count": 4,
      "outputs": [
        {
          "output_type": "execute_result",
          "data": {
            "text/plain": [
              "(2.8708133971291865, 0.23801854252784904)"
            ]
          },
          "metadata": {},
          "execution_count": 4
        }
      ]
    },
    {
      "cell_type": "markdown",
      "source": [
        "**Interpretation:**\n",
        "\n",
        "The p-value is 0.2380, which is greater than the significance level of 0.05. Since the p-value is greater than 0.05, we fail to reject the null hypothesis.\n",
        "\n",
        "There is not enough evidence to conclude that the preferences for Brand A, Brand B, and Brand C are significantly different. This means that the survey results do not provide sufficient evidence to suggest that consumers prefer one brand over the others, and the preferences appear to be equally distributed among the three brands."
      ],
      "metadata": {
        "id": "aJksxiuZ0i6O"
      }
    },
    {
      "cell_type": "markdown",
      "source": [
        "##3. ANOVA Test"
      ],
      "metadata": {
        "id": "WuSrqEFx0qmf"
      }
    },
    {
      "cell_type": "markdown",
      "source": [
        "**Scenario:**\n",
        "\n",
        "We have three groups of students with test scores from three different teaching methods. We want to determine if there are significant differences in the mean test scores among the three groups at a 0.05 significance level.\n",
        "\n",
        "**Hypothesis:**\n",
        "\n",
        "Null Hypothesis (𝐻0): All group means are equal.\n",
        "\n",
        "Alternative Hypothesis (𝐻1): At least one group mean is different."
      ],
      "metadata": {
        "id": "WBkBYoKp0wHf"
      }
    },
    {
      "cell_type": "code",
      "source": [
        "import numpy as np\n",
        "from scipy import stats\n",
        "\n",
        "# Sample data\n",
        "group1 = np.random.normal(70, 10, 30)\n",
        "group2 = np.random.normal(75, 10, 30)\n",
        "group3 = np.random.normal(65, 10, 30)\n",
        "\n",
        "# Perform ANOVA test\n",
        "f_stat, p_value = stats.f_oneway(group1, group2, group3)\n",
        "f_stat, p_value"
      ],
      "metadata": {
        "colab": {
          "base_uri": "https://localhost:8080/"
        },
        "id": "gkZ-Sq7308uj",
        "outputId": "3bb3dc49-3599-4ab9-a411-62aac9029dc7"
      },
      "execution_count": 7,
      "outputs": [
        {
          "output_type": "execute_result",
          "data": {
            "text/plain": [
              "(7.213843794800864, 0.001262637496502434)"
            ]
          },
          "metadata": {},
          "execution_count": 7
        }
      ]
    },
    {
      "cell_type": "markdown",
      "source": [
        "**Interpretation:**\n",
        "\n",
        "The p-value (0.0012) is less than the significance level (0.05), so we reject the null hypothesis. There is significant evidence that at least one group mean is different from the others."
      ],
      "metadata": {
        "id": "0dWL56Mg1Hrd"
      }
    },
    {
      "cell_type": "markdown",
      "source": [
        "#Summary\n"
      ],
      "metadata": {
        "id": "FVtLicQm1S_f"
      }
    },
    {
      "cell_type": "markdown",
      "source": [
        "**Z-Score Test:**\n",
        "\n",
        "Used to determine if a sample mean significantly differs from a known population mean.\n",
        "\n",
        "**Chi-Square Test:**\n",
        "\n",
        "Used to test if there is a significant association between categorical variables or if observed frequencies differ from expected frequencies.\n",
        "\n",
        "**ANOVA Test:**\n",
        "\n",
        "Used to compare the means of three or more groups to see if at least one group mean is significantly different from the others."
      ],
      "metadata": {
        "id": "RMb4E0nq1V12"
      }
    }
  ]
}