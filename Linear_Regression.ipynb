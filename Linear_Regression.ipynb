{
  "nbformat": 4,
  "nbformat_minor": 0,
  "metadata": {
    "colab": {
      "provenance": [],
      "authorship_tag": "ABX9TyOoWYfIXv8T685OsD1c/Fy5",
      "include_colab_link": true
    },
    "kernelspec": {
      "name": "python3",
      "display_name": "Python 3"
    },
    "language_info": {
      "name": "python"
    }
  },
  "cells": [
    {
      "cell_type": "markdown",
      "metadata": {
        "id": "view-in-github",
        "colab_type": "text"
      },
      "source": [
        "<a href=\"https://colab.research.google.com/github/AbbisreeSaadhvi/Python-Projects/blob/main/Linear_Regression.ipynb\" target=\"_parent\"><img src=\"https://colab.research.google.com/assets/colab-badge.svg\" alt=\"Open In Colab\"/></a>"
      ]
    },
    {
      "cell_type": "markdown",
      "source": [
        "#Linear Regression\n",
        "\n",
        "Linear Regression is a statistical method used to model the relationship between a dependent variable (also called the target or outcome variable) and one or more independent variables (also known as predictors or features). The goal of linear regression is to find the best-fitting linear equation that can predict the dependent variable based on the independent variables.\n",
        "\n",
        "**Dependent Variable (Y):** The variable that we are trying to predict or explain.\n",
        "\n",
        "**Independent Variable(s) (X):** The variable(s) that are used to predict the dependent variable.\n",
        "\n",
        "**Linear Relationship:** The relationship between the dependent and independent variables is assumed to be linear, meaning it can be represented by a straight line.\n",
        "\n",
        "**Types of Linear Regression**\n",
        "\n",
        "Simple Linear Regression: Involves a single independent variable.\n",
        "\n",
        "Multiple Linear Regression: Involves two or more independent variables.\n",
        "\n",
        "**Dataset Used:**\n",
        " Boston Housing dataset"
      ],
      "metadata": {
        "id": "XWAuaOUM-Tgi"
      }
    },
    {
      "cell_type": "code",
      "source": [
        "import pandas as pd\n",
        "import statsmodels.api as sm\n",
        "from sklearn.model_selection import train_test_split\n",
        "from sklearn.linear_model import LinearRegression\n",
        "from sklearn.metrics import mean_squared_error, r2_score\n",
        "\n",
        "# Load the dataset from GitHub\n",
        "url = 'https://raw.githubusercontent.com/selva86/datasets/master/BostonHousing.csv'\n",
        "data = pd.read_csv(url)\n",
        "\n",
        "# Display the first few rows of the dataset\n",
        "print(data.head())\n",
        "\n",
        "# Define the predictors and the outcome variable\n",
        "X = data.drop(columns=['medv'])\n",
        "y = data['medv']\n",
        "\n",
        "# Add a constant to the model (for the intercept)\n",
        "X_const = sm.add_constant(X)"
      ],
      "metadata": {
        "colab": {
          "base_uri": "https://localhost:8080/"
        },
        "id": "xGNcaoGSAjfg",
        "outputId": "26c085cb-1b24-4651-b31a-ceff72e029cd"
      },
      "execution_count": 4,
      "outputs": [
        {
          "output_type": "stream",
          "name": "stdout",
          "text": [
            "      crim    zn  indus  chas    nox     rm   age     dis  rad  tax  ptratio  \\\n",
            "0  0.00632  18.0   2.31     0  0.538  6.575  65.2  4.0900    1  296     15.3   \n",
            "1  0.02731   0.0   7.07     0  0.469  6.421  78.9  4.9671    2  242     17.8   \n",
            "2  0.02729   0.0   7.07     0  0.469  7.185  61.1  4.9671    2  242     17.8   \n",
            "3  0.03237   0.0   2.18     0  0.458  6.998  45.8  6.0622    3  222     18.7   \n",
            "4  0.06905   0.0   2.18     0  0.458  7.147  54.2  6.0622    3  222     18.7   \n",
            "\n",
            "        b  lstat  medv  \n",
            "0  396.90   4.98  24.0  \n",
            "1  396.90   9.14  21.6  \n",
            "2  392.83   4.03  34.7  \n",
            "3  394.63   2.94  33.4  \n",
            "4  396.90   5.33  36.2  \n"
          ]
        }
      ]
    },
    {
      "cell_type": "markdown",
      "source": [
        "##Explanatory Linear Regression\n",
        "\n",
        "An explanatory model is used to offer an explanation of a past event. Specifically, explanatory models are used when we want to:\n",
        "\n",
        "Explain why certain units have high values for the outcome variable, while others have low value for the outcome variable; explain why the value of the outcome variable varied for different observations.\n",
        "\n",
        "Assess the relationship between the outcome variable and a factor(indepedent variable). This is also known as Hypothesis Testing\n",
        "\n",
        "Null hypothesis (H0): There is NO association between the independent variable and the outcome variable\n",
        "Alternative hypothesis (H1): There is a significant association between the independent variable and the outcome variable"
      ],
      "metadata": {
        "id": "DJJEgN4DBFTM"
      }
    },
    {
      "cell_type": "code",
      "source": [
        "# Fit the explanatory linear regression model\n",
        "model_explanatory = sm.OLS(y, X_const).fit()\n",
        "\n",
        "# Summary of the explanatory model\n",
        "print(model_explanatory.summary())"
      ],
      "metadata": {
        "colab": {
          "base_uri": "https://localhost:8080/"
        },
        "id": "tz5j-lxuBD0I",
        "outputId": "79ff185e-0a52-451f-e56a-b2d30247b8b6"
      },
      "execution_count": 5,
      "outputs": [
        {
          "output_type": "stream",
          "name": "stdout",
          "text": [
            "                            OLS Regression Results                            \n",
            "==============================================================================\n",
            "Dep. Variable:                   medv   R-squared:                       0.741\n",
            "Model:                            OLS   Adj. R-squared:                  0.734\n",
            "Method:                 Least Squares   F-statistic:                     108.1\n",
            "Date:                Wed, 29 May 2024   Prob (F-statistic):          6.72e-135\n",
            "Time:                        01:44:33   Log-Likelihood:                -1498.8\n",
            "No. Observations:                 506   AIC:                             3026.\n",
            "Df Residuals:                     492   BIC:                             3085.\n",
            "Df Model:                          13                                         \n",
            "Covariance Type:            nonrobust                                         \n",
            "==============================================================================\n",
            "                 coef    std err          t      P>|t|      [0.025      0.975]\n",
            "------------------------------------------------------------------------------\n",
            "const         36.4595      5.103      7.144      0.000      26.432      46.487\n",
            "crim          -0.1080      0.033     -3.287      0.001      -0.173      -0.043\n",
            "zn             0.0464      0.014      3.382      0.001       0.019       0.073\n",
            "indus          0.0206      0.061      0.334      0.738      -0.100       0.141\n",
            "chas           2.6867      0.862      3.118      0.002       0.994       4.380\n",
            "nox          -17.7666      3.820     -4.651      0.000     -25.272     -10.262\n",
            "rm             3.8099      0.418      9.116      0.000       2.989       4.631\n",
            "age            0.0007      0.013      0.052      0.958      -0.025       0.027\n",
            "dis           -1.4756      0.199     -7.398      0.000      -1.867      -1.084\n",
            "rad            0.3060      0.066      4.613      0.000       0.176       0.436\n",
            "tax           -0.0123      0.004     -3.280      0.001      -0.020      -0.005\n",
            "ptratio       -0.9527      0.131     -7.283      0.000      -1.210      -0.696\n",
            "b              0.0093      0.003      3.467      0.001       0.004       0.015\n",
            "lstat         -0.5248      0.051    -10.347      0.000      -0.624      -0.425\n",
            "==============================================================================\n",
            "Omnibus:                      178.041   Durbin-Watson:                   1.078\n",
            "Prob(Omnibus):                  0.000   Jarque-Bera (JB):              783.126\n",
            "Skew:                           1.521   Prob(JB):                    8.84e-171\n",
            "Kurtosis:                       8.281   Cond. No.                     1.51e+04\n",
            "==============================================================================\n",
            "\n",
            "Notes:\n",
            "[1] Standard Errors assume that the covariance matrix of the errors is correctly specified.\n",
            "[2] The condition number is large, 1.51e+04. This might indicate that there are\n",
            "strong multicollinearity or other numerical problems.\n"
          ]
        }
      ]
    },
    {
      "cell_type": "markdown",
      "source": [
        "**Interpretation:**\n",
        "\n",
        "_R-squared:_\n",
        "\n",
        "0.741, indicating that 74.1% of the variance in the dependent variable (medv) is explained by the independent variables in the model.\n",
        "\n",
        "*Significant Predictors:*\n",
        "\n",
        "Variables like crim, zn, chas, nox, rm, dis, rad, tax, ptratio, black, and lstat have p-values less than 0.05, indicating they are statistically significant predictors of the median value of owner-occupied homes.\n",
        "\n",
        "*Coefficients:*\n",
        "\n",
        "Each coefficient represents the change in the dependent variable for a one-unit change in the predictor variable, holding all other variables constant. For example, the coefficient for rm is 3.8099, suggesting that an increase of one room leads to an average increase of $3.81 in the median value of homes."
      ],
      "metadata": {
        "id": "bHFgLwMHBUpT"
      }
    },
    {
      "cell_type": "markdown",
      "source": [
        "##Predictive Linear Regression"
      ],
      "metadata": {
        "id": "T7QHaTqPBluE"
      }
    },
    {
      "cell_type": "code",
      "source": [
        "# Split the data into training and testing sets for the predictive model\n",
        "X_train, X_test, y_train, y_test = train_test_split(X, y, test_size=0.2, random_state=42)\n",
        "\n",
        "# Fit the predictive linear regression model\n",
        "model_predictive = LinearRegression()\n",
        "model_predictive.fit(X_train, y_train)\n",
        "\n",
        "# Make predictions\n",
        "y_pred = model_predictive.predict(X_test)\n",
        "\n",
        "# Performance metrics for the predictive model\n",
        "mse = mean_squared_error(y_test, y_pred)\n",
        "r2 = r2_score(y_test, y_pred)\n",
        "\n",
        "print(f'Mean Squared Error: {mse}')\n",
        "print(f'R-squared: {r2}')"
      ],
      "metadata": {
        "colab": {
          "base_uri": "https://localhost:8080/"
        },
        "id": "8dEXEPm7A8Rw",
        "outputId": "a8947ad7-5a52-41b0-831e-ab9c23c72bef"
      },
      "execution_count": 3,
      "outputs": [
        {
          "output_type": "stream",
          "name": "stdout",
          "text": [
            "Mean Squared Error: 24.291119474973478\n",
            "R-squared: 0.6687594935356326\n"
          ]
        }
      ]
    },
    {
      "cell_type": "markdown",
      "source": [
        "**Interpretation:**\n",
        "\n",
        "*Mean Squared Error (MSE):*\n",
        "\n",
        "24.291, indicating the average squared difference between the observed actual outcomes and the outcomes predicted by the model.\n",
        "\n",
        "*R-squared:*\n",
        "\n",
        "0.668, indicating that 66.8% of the variance in the dependent variable (medv) is explained by the model on the test data."
      ],
      "metadata": {
        "id": "A8gdhe8OBqYd"
      }
    },
    {
      "cell_type": "markdown",
      "source": [
        "##Conclusion\n",
        "\n",
        "Both the explanatory and predictive models provide insights into the relationship between the predictors and the target variable. The explanatory model helps identify significant predictors and their impacts, while the predictive model evaluates the performance of predictions on new data."
      ],
      "metadata": {
        "id": "1HMy08uYB3Wu"
      }
    }
  ]
}